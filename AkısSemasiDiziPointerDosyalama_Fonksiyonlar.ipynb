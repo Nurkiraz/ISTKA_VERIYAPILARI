{
  "nbformat": 4,
  "nbformat_minor": 0,
  "metadata": {
    "colab": {
      "provenance": []
    },
    "kernelspec": {
      "name": "python3",
      "display_name": "Python 3"
    },
    "language_info": {
      "name": "python"
    }
  },
  "cells": [
    {
      "cell_type": "code",
      "execution_count": 2,
      "metadata": {
        "colab": {
          "base_uri": "https://localhost:8080/"
        },
        "id": "Vu3Wjg6MgKO5",
        "outputId": "bcd0d570-3d4a-4745-db84-0b37726da4d5"
      },
      "outputs": [
        {
          "output_type": "stream",
          "name": "stdout",
          "text": [
            "3.10.12 (main, Jul 29 2024, 16:56:48) [GCC 11.4.0]\n",
            "Mounted at /content/drive\n",
            "/content/drive/My Drive/VERIYAPILARI_ISTKA\n"
          ]
        }
      ],
      "source": [
        "import sys\n",
        "print(sys.version)\n",
        "from google.colab import drive\n",
        "\n",
        "drive.mount ('/content/drive')\n",
        "import os\n",
        "\n",
        "os.chdir('/content/drive/My Drive/VERIYAPILARI_ISTKA')\n",
        "\n",
        "!pwd"
      ]
    },
    {
      "cell_type": "code",
      "source": [
        "\n",
        "# Liste tanımlama\n",
        "dizi = [2, 3, 5, 6, 8, 11, 14]\n",
        "\n",
        "# Çift sayıları tutmak için boş liste\n",
        "numaralistesi = []\n",
        "\n",
        "# For ve if ile çift sayıları bulma\n",
        "for i in dizi:\n",
        "    if i % 2 == 0:\n",
        "        numaralistesi.append(i)\n",
        "\n",
        "print(f\"Listede bulunan çift sayılar: {numaralistesi}\")\n",
        "print(\"Adet çift sayı\", len(numaralistesi), \"bulunmaktadır !!!\")"
      ],
      "metadata": {
        "colab": {
          "base_uri": "https://localhost:8080/"
        },
        "id": "tEaDBEraiOQ1",
        "outputId": "370cc3eb-41bf-41e9-b6ed-a0fb99d16d99"
      },
      "execution_count": 6,
      "outputs": [
        {
          "output_type": "stream",
          "name": "stdout",
          "text": [
            "Listede bulunan çift sayılar: [2, 6, 8, 14]\n",
            "Adet çift sayı 4 bulunmaktadır !!!\n"
          ]
        }
      ]
    },
    {
      "cell_type": "code",
      "source": [
        "dizi=[\"elma\",\"muz\",\"çilek\",\"su\",\"çikolata\"] #malzeme listesi\n",
        "aranacak_urun=\"muz\" #aranacak eleman\n",
        "if aranacak_urun in dizi:\n",
        "  print(\"liste içerisinde mevcut\")\n",
        "else:\n",
        "  print(aranacak_urun,\"liste içerisinde mevcut değil\")"
      ],
      "metadata": {
        "colab": {
          "base_uri": "https://localhost:8080/"
        },
        "id": "2jalSatDl3_d",
        "outputId": "2cb856d2-1cfe-4737-ceab-8bb47e27c015"
      },
      "execution_count": 8,
      "outputs": [
        {
          "output_type": "stream",
          "name": "stdout",
          "text": [
            "liste içerisinde mevcut\n"
          ]
        }
      ]
    },
    {
      "cell_type": "code",
      "source": [
        "dizi=[\"elma\",\"muz\",\"çilek\",\"su\",\"çikolata\"]\n",
        "aranacak_urun=input(\"aranacak ürün nedir?\")\n",
        "if aranacak_urun in dizi:\n",
        "  print(aranacak_urun,\"liste içerisinde mevcut\")\n",
        "else:\n",
        "  print(aranacak_urun,\"liste içerisinde mevcut değil\")"
      ],
      "metadata": {
        "colab": {
          "base_uri": "https://localhost:8080/"
        },
        "id": "9oZ4J9CTnBoN",
        "outputId": "3cd79439-cc5d-4206-a608-7de4699b83aa"
      },
      "execution_count": 11,
      "outputs": [
        {
          "output_type": "stream",
          "name": "stdout",
          "text": [
            "aranacak ürün nedir?çilek\n",
            "çilek liste içerisinde mevcut\n"
          ]
        }
      ]
    },
    {
      "cell_type": "code",
      "source": [
        "# Matematiksel Toplama İşlemi\n",
        "\n",
        "def toplama(a, b):\n",
        "    return a + b\n",
        "\n",
        "# Fonksiyonu çağırarak kullanma\n",
        "sonuc = toplama(5, 3)\n",
        "print(f\"Toplama sonucu: {sonuc}\")\n",
        "print(\"Toplama sonucu: \",sonuc)"
      ],
      "metadata": {
        "colab": {
          "base_uri": "https://localhost:8080/"
        },
        "id": "LpqhydMvok2E",
        "outputId": "69d7928d-4dcd-4de5-fce5-c0becfad7543"
      },
      "execution_count": 12,
      "outputs": [
        {
          "output_type": "stream",
          "name": "stdout",
          "text": [
            "Toplama sonucu: 8\n",
            "Toplama sonucu:  8\n"
          ]
        }
      ]
    },
    {
      "cell_type": "code",
      "source": [
        "#Liste elemanlarını toplama\n",
        "sayilar=[1,2,3,4,5]\n",
        "def liste_toplam(liste):\n",
        "  toplam=0\n",
        "  for eleman in liste:\n",
        "    toplam+=eleman\n",
        "  return toplam\n",
        "\n",
        "# Fonksiyonu çağırarak kullanma\n",
        "sonuc=liste_toplam(sayilar)\n",
        "print(\"toplam sonucu:\",sonuc)\n"
      ],
      "metadata": {
        "colab": {
          "base_uri": "https://localhost:8080/"
        },
        "id": "-eYSj1C0qdi2",
        "outputId": "0dfffd70-33d0-4839-f2a7-8535ad490234"
      },
      "execution_count": 15,
      "outputs": [
        {
          "output_type": "stream",
          "name": "stdout",
          "text": [
            "toplam sonucu: 15\n"
          ]
        }
      ]
    },
    {
      "cell_type": "code",
      "source": [
        "# Fibonacci Dizisi Hesaplama\n",
        "\n",
        "def fibonacci(n):\n",
        "    if n <= 0:\n",
        "        return \"Geçersiz giriş\"\n",
        "    elif n == 1:\n",
        "        return 0\n",
        "    elif n == 2:\n",
        "        return 1\n",
        "    else:\n",
        "        return fibonacci(n-1) + fibonacci(n-2)\n",
        "\n",
        "# Fonksiyonu çağırarak kullanma\n",
        "#n = 7\n",
        "n= int(input(\"bir sayı giriniz!!\"))\n",
        "sonuc = fibonacci(n)\n",
        "print(f\"Fibonacci dizisinin\",n, \"elemanı:\", sonuc)\n",
        "\n",
        "\n",
        ""
      ],
      "metadata": {
        "colab": {
          "base_uri": "https://localhost:8080/"
        },
        "id": "_GWFWmP8rRz-",
        "outputId": "4f9231ae-0c75-4512-ec64-bb41cab56345"
      },
      "execution_count": 21,
      "outputs": [
        {
          "output_type": "stream",
          "name": "stdout",
          "text": [
            "bir sayı giriniz!!12\n",
            "Fibonacci dizisinin 12 elemanı: 89\n"
          ]
        }
      ]
    },
    {
      "cell_type": "code",
      "source": [
        "# EBOB be EKOK Bulma\n",
        "\n",
        "def ebob(a, b):\n",
        "    while b:\n",
        "        a, b = b, a % b\n",
        "    return a\n",
        "\n",
        "def ekok(a, b):\n",
        "    return a * b // ebob(a, b)\n",
        "\n",
        "# Kullanıcıdan iki sayı al\n",
        "Bir_Sayi = int(input(\"Birinci sayıyı girin: \"))\n",
        "iki_Sayi = int(input(\"İkinci sayıyı girin: \"))\n",
        "\n",
        "# EBOB ve EKOK hesapla\n",
        "ebob_sonuc = ebob(Bir_Sayi, iki_Sayi)\n",
        "ekok_sonuc = ekok(Bir_Sayi, iki_Sayi)\n",
        "\n",
        "# Sonuçları göster\n",
        "print(\"Sayılarının EBOB'u: \", ebob_sonuc)\n",
        "print(\"Sayılarının EKOK'u: \", ekok_sonuc)"
      ],
      "metadata": {
        "colab": {
          "base_uri": "https://localhost:8080/"
        },
        "id": "MTBqftM83ILt",
        "outputId": "9bfe25b6-eade-43a5-8792-19ed930447fe"
      },
      "execution_count": 22,
      "outputs": [
        {
          "output_type": "stream",
          "name": "stdout",
          "text": [
            "Birinci sayıyı girin: 11\n",
            "İkinci sayıyı girin: 52\n",
            "Sayılarının EBOB'u:  1\n",
            "Sayılarının EKOK'u:  572\n"
          ]
        }
      ]
    },
    {
      "cell_type": "code",
      "source": [
        "# Asal Sayı Kontrolü ve Asal Sayılar Listesi\n",
        "def asal_mi(sayi):\n",
        "    if sayi < 2:\n",
        "        return False\n",
        "    for i in range(2, int(sayi ** 0.5) + 1):\n",
        "        if sayi % i == 0:\n",
        "            return False\n",
        "    return True\n",
        "\n",
        "def asal_sayilar(aralik):\n",
        "    asal_listesi = []\n",
        "    for sayi in range(2, aralik + 1):\n",
        "        if asal_mi(sayi):\n",
        "            asal_listesi.append(sayi)\n",
        "    return asal_listesi\n",
        "\n",
        "# Fonksiyonları çağırarak kullanma\n",
        "aralik = 50\n",
        "sonuc = asal_sayilar(aralik)\n",
        "print(\"1 ile\", aralik, \" arasındaki asal sayılar: \", sonuc)"
      ],
      "metadata": {
        "colab": {
          "base_uri": "https://localhost:8080/"
        },
        "id": "OCwSdls63Sq0",
        "outputId": "19e2be44-84e4-42d7-fbe6-58513baee8a4"
      },
      "execution_count": 23,
      "outputs": [
        {
          "output_type": "stream",
          "name": "stdout",
          "text": [
            "1 ile 50  arasındaki asal sayılar:  [2, 3, 5, 7, 11, 13, 17, 19, 23, 29, 31, 37, 41, 43, 47]\n"
          ]
        }
      ]
    },
    {
      "cell_type": "code",
      "source": [
        "buzdolabi = { # Buzdolabındaki meyveler ve miktarlarını tutan sözlük\n",
        "    \"elma\": 5,    # 5 kilo elma\n",
        "    \"muz\": 3,     # 3 kilo muz\n",
        "    \"kiraz\": 2,   # 2 kilo kiraz\n",
        "    \"hurma\": 4    # 4 kilo hurma\n",
        "}\n",
        "\n",
        "def buzdolabi_durumu_yazdir(): # Mevcut buzdolabı durumunu yazdıran fonksiyon\n",
        "    print(\"Buzdolabındaki meyve miktarları:\")\n",
        "    for meyve, miktar in buzdolabi.items():\n",
        "        print(f\"{meyve}: {miktar} kilo\")\n",
        "    print(\"\\n\")\n",
        "\n",
        "\n",
        "def meyve_tuket(meyve, miktar): # Meyveden belirtilen miktarı düşen fonksiyon\n",
        "    if meyve in buzdolabi:\n",
        "        if buzdolabi[meyve] >= miktar:\n",
        "            buzdolabi[meyve] -= miktar\n",
        "            print(f\"{miktar} kilo {meyve} tüketildi.\")\n",
        "            if buzdolabi[meyve] == 0:\n",
        "                print(f\"{meyve} kalmadı. {meyve} almalısın!\")\n",
        "                yeni_miktar = float(input(f\"Kaç kilo {meyve} almak istersiniz?: \"))\n",
        "                buzdolabi[meyve] = yeni_miktar\n",
        "                print(f\"{meyve} buzdolabına {yeni_miktar} kilo olarak eklendi.\")\n",
        "        else:\n",
        "            print(f\"Buzdolabında yeterli {meyve} yok. Mevcut miktar: {buzdolabi[meyve]} kilo.\")\n",
        "    else:\n",
        "        print(f\"Buzdolabında {meyve} bulunmuyor.\")\n",
        "\n",
        "print(\"Buzdolabı Uygulaması\") # Uygulama başlangıc noktası\n",
        "buzdolabi_durumu_yazdir()\n",
        "\n",
        "while True: #Ana döngü tanımlaması\n",
        "    # Kullanıcıdan meyve ve miktar bilgisi alma\n",
        "    meyve = input(\"Hangi meyveyi tüketmek istersiniz? (Çıkmak için 'exit' yazın): \").lower()\n",
        "\n",
        "    if meyve == 'exit':\n",
        "        print(\"Uygulama sonlandırılıyor.\")\n",
        "        break\n",
        "\n",
        "    miktar = float(input(f\"Kaç kilo {meyve} tüketmek istersiniz?: \"))\n",
        "\n",
        "    meyve_tuket(meyve, miktar)     # Meyve tüketme işlemi\n",
        "\n",
        "    buzdolabi_durumu_yazdir()  # Güncellenmiş buzdolabı durumunu yazdırma"
      ],
      "metadata": {
        "colab": {
          "base_uri": "https://localhost:8080/"
        },
        "id": "VAL5MBAs3U_U",
        "outputId": "7062a75d-a988-435b-b2d4-081693200faf"
      },
      "execution_count": 24,
      "outputs": [
        {
          "output_type": "stream",
          "name": "stdout",
          "text": [
            "Buzdolabı Uygulaması\n",
            "Buzdolabındaki meyve miktarları:\n",
            "elma: 5 kilo\n",
            "muz: 3 kilo\n",
            "kiraz: 2 kilo\n",
            "hurma: 4 kilo\n",
            "\n",
            "\n",
            "Hangi meyveyi tüketmek istersiniz? (Çıkmak için 'exit' yazın): kiraz\n",
            "Kaç kilo kiraz tüketmek istersiniz?: 1\n",
            "1.0 kilo kiraz tüketildi.\n",
            "Buzdolabındaki meyve miktarları:\n",
            "elma: 5 kilo\n",
            "muz: 3 kilo\n",
            "kiraz: 1.0 kilo\n",
            "hurma: 4 kilo\n",
            "\n",
            "\n",
            "Hangi meyveyi tüketmek istersiniz? (Çıkmak için 'exit' yazın): exit\n",
            "Uygulama sonlandırılıyor.\n"
          ]
        }
      ]
    },
    {
      "cell_type": "code",
      "source": [
        "# Diyet listesindeki besinler ve kalorilerini tutan sözlük (Adet başına kalori)\n",
        "diyet_listesi = {\n",
        "    \"elma\": {\"miktar\": 5, \"kalori\": 52},    # 1 adet elma: 52 kalori\n",
        "    \"muz\": {\"miktar\": 3, \"kalori\": 89},     # 1 adet muz: 89 kalori\n",
        "    \"kiraz\": {\"miktar\": 2, \"kalori\": 50},   # 1 adet kiraz: 50 kalori\n",
        "    \"hurma\": {\"miktar\": 4, \"kalori\": 282}   # 1 adet hurma: 282 kalori\n",
        "}\n",
        "\n",
        "# Mevcut diyet listesini yazdıran fonksiyon\n",
        "def diyet_listesi_yazdir():\n",
        "    print(\"Diyet listesindeki besin miktarları ve kalorileri:\")\n",
        "    for besin, bilgi in diyet_listesi.items():\n",
        "        print(f\"{besin}: {bilgi['miktar']} Adet, Toplam Kalori: {bilgi['miktar'] * bilgi['kalori']} kalori\")\n",
        "    print(\"\\n\")\n",
        "\n",
        "# Besinden belirtilen miktarı düşen ve kalori hesaplayan fonksiyon\n",
        "def besin_tuket(besin, miktar):\n",
        "    if besin in diyet_listesi:\n",
        "        if diyet_listesi[besin][\"miktar\"] >= miktar:\n",
        "            diyet_listesi[besin][\"miktar\"] -= miktar\n",
        "            tuketilen_kalori = miktar * diyet_listesi[besin][\"kalori\"]\n",
        "            print(f\"{miktar} kilo {besin} tüketildi. Alınan kalori: {tuketilen_kalori} kalori.\")\n",
        "            if diyet_listesi[besin][\"miktar\"] == 0:\n",
        "                print(f\"{besin} kalmadı. {besin} almalısın!\")\n",
        "                yeni_miktar = float(input(f\"Kaç kilo {besin} almak istersiniz?: \"))\n",
        "                diyet_listesi[besin][\"miktar\"] = yeni_miktar\n",
        "                print(f\"{besin} diyet listesine {yeni_miktar} kilo olarak eklendi.\")\n",
        "        else:\n",
        "            print(f\"Diyet listesinde yeterli {besin} yok. Mevcut miktar: {diyet_listesi[besin]['miktar']} kilo.\")\n",
        "    else:\n",
        "        print(f\"Diyet listesinde {besin} bulunmuyor.\")\n",
        "\n",
        "print(\"Diyet Uygulaması\") # Uygulama başlangıcı\n",
        "diyet_listesi_yazdir()\n",
        "\n",
        "while True:     # Kullanıcıdan besin ve miktar bilgisi alma\n",
        "\n",
        "    besin = input(\"Hangi besini tüketmek istersiniz? (Çıkmak için 'exit' yazın): \").lower()\n",
        "\n",
        "    if besin == 'exit':\n",
        "        print(\"Uygulama sonlandırılıyor.\")\n",
        "        break\n",
        "\n",
        "    miktar = float(input(f\"Kaç kilo {besin} tüketmek istersiniz?: \"))\n",
        "\n",
        "    besin_tuket(besin, miktar)     # Besin tüketme işlemi\n",
        "\n",
        "    diyet_listesi_yazdir()     # Güncellenmiş diyet listesini yazdırma"
      ],
      "metadata": {
        "colab": {
          "base_uri": "https://localhost:8080/"
        },
        "id": "AJ1xkDp83g5F",
        "outputId": "7241698f-7119-4c95-be14-e5a6988deed7"
      },
      "execution_count": 25,
      "outputs": [
        {
          "output_type": "stream",
          "name": "stdout",
          "text": [
            "Diyet Uygulaması\n",
            "Diyet listesindeki besin miktarları ve kalorileri:\n",
            "elma: 5 Adet, Toplam Kalori: 260 kalori\n",
            "muz: 3 Adet, Toplam Kalori: 267 kalori\n",
            "kiraz: 2 Adet, Toplam Kalori: 100 kalori\n",
            "hurma: 4 Adet, Toplam Kalori: 1128 kalori\n",
            "\n",
            "\n",
            "Hangi besini tüketmek istersiniz? (Çıkmak için 'exit' yazın): hurma\n",
            "Kaç kilo hurma tüketmek istersiniz?: 2\n",
            "2.0 kilo hurma tüketildi. Alınan kalori: 564.0 kalori.\n",
            "Diyet listesindeki besin miktarları ve kalorileri:\n",
            "elma: 5 Adet, Toplam Kalori: 260 kalori\n",
            "muz: 3 Adet, Toplam Kalori: 267 kalori\n",
            "kiraz: 2 Adet, Toplam Kalori: 100 kalori\n",
            "hurma: 2.0 Adet, Toplam Kalori: 564.0 kalori\n",
            "\n",
            "\n",
            "Hangi besini tüketmek istersiniz? (Çıkmak için 'exit' yazın): exit\n",
            "Uygulama sonlandırılıyor.\n"
          ]
        }
      ]
    }
  ]
}