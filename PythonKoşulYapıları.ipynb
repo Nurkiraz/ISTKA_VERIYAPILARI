{
  "nbformat": 4,
  "nbformat_minor": 0,
  "metadata": {
    "colab": {
      "provenance": []
    },
    "kernelspec": {
      "name": "python3",
      "display_name": "Python 3"
    },
    "language_info": {
      "name": "python"
    }
  },
  "cells": [
    {
      "cell_type": "code",
      "execution_count": 3,
      "metadata": {
        "colab": {
          "base_uri": "https://localhost:8080/"
        },
        "id": "WQhu2F4-uGl6",
        "outputId": "ca93a3ec-68a9-4bb0-9889-32818e5ced3d"
      },
      "outputs": [
        {
          "output_type": "stream",
          "name": "stdout",
          "text": [
            "3.10.12 (main, Jul 29 2024, 16:56:48) [GCC 11.4.0]\n",
            "Mounted at /content/drive\n",
            "/content/drive/My Drive/VERIYAPILARI_ISTKA\n",
            "3.10.12 (main, Jul 29 2024, 16:56:48) [GCC 11.4.0]\n",
            "Drive already mounted at /content/drive; to attempt to forcibly remount, call drive.mount(\"/content/drive\", force_remount=True).\n",
            "/content/drive/My Drive/VERIYAPILARI_ISTKA\n"
          ]
        }
      ],
      "source": [
        "import sys\n",
        "print(sys.version)\n",
        "from google.colab import drive\n",
        "\n",
        "drive.mount ('/content/drive')\n",
        "import os\n",
        "\n",
        "os.chdir('/content/drive/My Drive/VERIYAPILARI_ISTKA')\n",
        "\n",
        "!pwd"
      ]
    },
    {
      "cell_type": "code",
      "source": [
        "#if koşul yapısı\n",
        "x=10\n",
        "if x>5:\n",
        "  print(\"x,5'ten büyüktür.\")"
      ],
      "metadata": {
        "colab": {
          "base_uri": "https://localhost:8080/"
        },
        "id": "y8mCz9aJxjbf",
        "outputId": "dda597c3-3715-47fe-aeb7-84c365f3d550"
      },
      "execution_count": 4,
      "outputs": [
        {
          "output_type": "stream",
          "name": "stdout",
          "text": [
            "x,5'ten büyüktür.\n"
          ]
        }
      ]
    },
    {
      "cell_type": "code",
      "source": [
        "# if-else Koşulu yapısı\n",
        "\n",
        "x = 3\n",
        "\n",
        "if x > 5:\n",
        "    print(\"x, 5'ten büyüktür.\")\n",
        "else:\n",
        "    print(\"x, 5'ten küçük veya eşittir.\")"
      ],
      "metadata": {
        "colab": {
          "base_uri": "https://localhost:8080/"
        },
        "id": "8RbMMW_44f_U",
        "outputId": "46fef792-f945-4255-f54a-5d51a3d10c72"
      },
      "execution_count": 5,
      "outputs": [
        {
          "output_type": "stream",
          "name": "stdout",
          "text": [
            "x, 5'ten küçük veya eşittir.\n"
          ]
        }
      ]
    },
    {
      "cell_type": "code",
      "source": [
        " #if-elif-else Koşul Yapısı\n",
        "\n",
        "x = 8\n",
        "\n",
        "if x > 10:\n",
        "    print(\"x, 10'dan büyüktür.\")\n",
        "elif x > 5:\n",
        "    print(\"x, 5'ten büyüktür ama 10'dan küçük veya eşittir.\")\n",
        "else:\n",
        "    print(\"x, 5'ten küçük veya eşittir.\")\n",
        ""
      ],
      "metadata": {
        "colab": {
          "base_uri": "https://localhost:8080/"
        },
        "id": "ni13TLHc4upu",
        "outputId": "c7e9ae5c-f9b2-4718-f544-4a6e33cae10e"
      },
      "execution_count": 7,
      "outputs": [
        {
          "output_type": "stream",
          "name": "stdout",
          "text": [
            "x, 5'ten büyüktür ama 10'dan küçük veya eşittir.\n"
          ]
        }
      ]
    },
    {
      "cell_type": "code",
      "source": [
        "# İç İçe Koşul Yapısı\n",
        "\n",
        "x = 12\n",
        "y = 8\n",
        "\n",
        "if x > 10:\n",
        "    if y > 5:\n",
        "        print(\"x, 10'dan büyük ve y, 5'ten büyüktür.\")  # Bu satır çalışır\n",
        "    else:\n",
        "        print(\"x, 10'dan büyük ama y, 5'ten küçük veya eşittir.\")\n",
        "else:\n",
        "    print(\"x, 10'dan küçük veya eşittir.\")"
      ],
      "metadata": {
        "colab": {
          "base_uri": "https://localhost:8080/"
        },
        "id": "qH94qDGZ6OFn",
        "outputId": "37ac84ee-8f8e-4cdd-b037-15511fffb902"
      },
      "execution_count": 8,
      "outputs": [
        {
          "output_type": "stream",
          "name": "stdout",
          "text": [
            "x, 10'dan büyük ve y, 5'ten büyüktür.\n"
          ]
        }
      ]
    },
    {
      "cell_type": "code",
      "source": [
        "# Mantıksal Operatörler ile Koşullar\n",
        "\n",
        "x = 7\n",
        "y = 3\n",
        "\n",
        "# 'and' operatörü ile\n",
        "if x > 5 and y > 2:\n",
        "    print(\"x, 5'ten büyük ve y, 2'den büyüktür.\")  # Bu satır çalışır\n",
        "\n",
        "# 'or' operatörü ile\n",
        "if x > 5 or y > 5:\n",
        "    print(\"x veya y, 5'ten büyüktür.\")  # Bu satır çalışır\n",
        "\n",
        "# 'not' operatörü ile\n",
        "if not (x > 10):\n",
        "    print(\"x, 10'dan büyük değildir.\")  # Bu satır çalışır"
      ],
      "metadata": {
        "colab": {
          "base_uri": "https://localhost:8080/"
        },
        "id": "460ynheY6b7V",
        "outputId": "ef4e4473-6968-4887-a96e-29ed0dd9209b"
      },
      "execution_count": 9,
      "outputs": [
        {
          "output_type": "stream",
          "name": "stdout",
          "text": [
            "x, 5'ten büyük ve y, 2'den büyüktür.\n",
            "x veya y, 5'ten büyüktür.\n",
            "x, 10'dan büyük değildir.\n"
          ]
        }
      ]
    },
    {
      "cell_type": "code",
      "source": [
        "# Örnek 1: Not Sistemi\n",
        "\n",
        "notu = 85 #not farkını gösterilecek...\n",
        "\n",
        "if notu >= 90:\n",
        "    print(\"Harf notu: A\")\n",
        "elif notu >= 80:\n",
        "    print(\"Harf notu: B\")  # Bu satır çalışır\n",
        "elif notu >= 70:\n",
        "    print(\"Harf notu: C\")\n",
        "elif notu >= 60:\n",
        "    print(\"Harf notu: D\")\n",
        "else:\n",
        "    print(\"Harf notu: F\")\n",
        ""
      ],
      "metadata": {
        "colab": {
          "base_uri": "https://localhost:8080/"
        },
        "id": "eP_LFGOK6fO7",
        "outputId": "bf9232ee-a450-4a50-9bce-c80faad1f70c"
      },
      "execution_count": 10,
      "outputs": [
        {
          "output_type": "stream",
          "name": "stdout",
          "text": [
            "Harf notu: B\n"
          ]
        }
      ]
    },
    {
      "cell_type": "code",
      "source": [
        "# Örnek 2: Yaş Kontrolü\n",
        "\n",
        "yas = 20\n",
        "\n",
        "if yas < 18:\n",
        "    print(\"Reşit değilsiniz.\")\n",
        "elif yas < 21:\n",
        "    print(\"Reşitsiniz ama içecek satın alamazsınız.\")\n",
        "else:\n",
        "    print(\"İçecek satın alabilirsiniz.\")"
      ],
      "metadata": {
        "colab": {
          "base_uri": "https://localhost:8080/"
        },
        "id": "EuG2mPM36h_b",
        "outputId": "c33c16e7-990a-4bf9-85b6-7950ce3f7116"
      },
      "execution_count": 11,
      "outputs": [
        {
          "output_type": "stream",
          "name": "stdout",
          "text": [
            "Reşitsiniz ama içecek satın alamazsınız.\n"
          ]
        }
      ]
    },
    {
      "cell_type": "code",
      "source": [
        "# Örnek 3: Sayı Pozitif, Negatif veya Sıfır mı?\n",
        "\n",
        "sayi = int(input(\"Bir sayı gir\"))\n",
        "\n",
        "if sayi > 0:\n",
        "    print(\"Sayı pozitiftir.\")\n",
        "elif sayi < 0:\n",
        "    print(\"Sayı negatiftir.\")  # Bu satır çalışır\n",
        "else:\n",
        "    print(\"Sayı sıfırdır.\")"
      ],
      "metadata": {
        "id": "OjViPaTC6kjz"
      },
      "execution_count": null,
      "outputs": []
    }
  ]
}