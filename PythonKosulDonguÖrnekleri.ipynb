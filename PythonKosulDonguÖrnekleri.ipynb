{
  "nbformat": 4,
  "nbformat_minor": 0,
  "metadata": {
    "colab": {
      "provenance": []
    },
    "kernelspec": {
      "name": "python3",
      "display_name": "Python 3"
    },
    "language_info": {
      "name": "python"
    }
  },
  "cells": [
    {
      "cell_type": "code",
      "execution_count": 3,
      "metadata": {
        "colab": {
          "base_uri": "https://localhost:8080/"
        },
        "id": "ce1tVTHIBTUJ",
        "outputId": "37bed250-51d6-406a-f2eb-a59ea45bc620"
      },
      "outputs": [
        {
          "output_type": "stream",
          "name": "stdout",
          "text": [
            "3.10.12 (main, Jul 29 2024, 16:56:48) [GCC 11.4.0]\n",
            "Mounted at /content/drive\n",
            "/content/drive/My Drive/VERIYAPILARI_ISTKA\n"
          ]
        }
      ],
      "source": [
        "import sys\n",
        "print(sys.version)\n",
        "from google.colab import drive\n",
        "\n",
        "drive.mount('/content/drive')\n",
        "import os\n",
        "\n",
        "os.chdir('/content/drive/My Drive/VERIYAPILARI_ISTKA')\n",
        "\n",
        "!pwd"
      ]
    },
    {
      "cell_type": "code",
      "source": [
        "# 1 ile 100 arasındaki sayılardan 7'ye bölünenleri bulan Python kodu\n",
        "Sayi_dizisi = []\n",
        "Sayi_dizisi2 = []\n",
        "sayi = 1\n",
        "\n",
        "while sayi <= 100:\n",
        "    if sayi % 7 == 0:\n",
        "        Sayi_dizisi.append(sayi)\n",
        "    elif sayi % 7!=0:\n",
        "        Sayi_dizisi2.append(sayi)\n",
        "    sayi+=1\n",
        "\n",
        "\n",
        "# Sonucu ekrana yazdır\n",
        "print(\"1 ile 100 arasındaki 7'ye bölünen sayılar:\", Sayi_dizisi)\n",
        "print(\"Toplam sayı adeti: \", len(Sayi_dizisi))\n",
        ""
      ],
      "metadata": {
        "colab": {
          "base_uri": "https://localhost:8080/"
        },
        "id": "YcSCAEFvEYY1",
        "outputId": "4d317da1-3ade-473f-f1e1-8717fa2dca6f"
      },
      "execution_count": 16,
      "outputs": [
        {
          "output_type": "stream",
          "name": "stdout",
          "text": [
            "1 ile 100 arasındaki 7'ye bölünen sayılar: [7, 14, 21, 28, 35, 42, 49, 56, 63, 70, 77, 84, 91, 98]\n",
            "Toplam sayı adeti:  14\n"
          ]
        }
      ]
    },
    {
      "cell_type": "code",
      "source": [
        "# Girilen iki kodun hangisinin büyük olduğunu bulan ve sayı dışında girilen karakterin hatalı olduğu bildiren kod blogudur.\n",
        "\n",
        "while True:\n",
        "    try:\n",
        "        gelen1 = float(input(\"Birinci sayıyı girin: \"))\n",
        "        gelen2 = float(input(\"İkinci sayıyı girin: \"))\n",
        "\n",
        "        if gelen1 > gelen2:\n",
        "            print(\"İlk sayı büyüktür\")\n",
        "        elif gelen1 < gelen2:\n",
        "            print(\"İkinci sayı büyüktür\")\n",
        "        else:\n",
        "            print(\"Sayilar birbirine eşittir\")\n",
        "\n",
        "        break\n",
        "    except ValueError:\n",
        "        print(\"Lütfen geçerli bir sayı girin.\")"
      ],
      "metadata": {
        "colab": {
          "base_uri": "https://localhost:8080/"
        },
        "id": "Ktwhu_AcFf5s",
        "outputId": "5ca6d66f-70b0-4c5d-a35a-6ac545e51d1f"
      },
      "execution_count": 5,
      "outputs": [
        {
          "output_type": "stream",
          "name": "stdout",
          "text": [
            "Birinci sayıyı girin: 20\n",
            "İkinci sayıyı girin: 34\n",
            "İkinci sayı büyüktür\n"
          ]
        }
      ]
    },
    {
      "cell_type": "code",
      "source": [
        "# Kullanıcıdan alınan sayıya kadar 1'den başlayarak faktöreyel hesabının yapılmasıdır.\n",
        "\n",
        "while True:\n",
        "    try:\n",
        "        sayi = int(input(\"Bir sayı girin: \"))\n",
        "        if sayi < 0:\n",
        "            print(\"Negatif sayıların faktöriyeli hesaplanamaz.\")\n",
        "        elif sayi == 0 or sayi == 1:\n",
        "            print(1)\n",
        "        else:\n",
        "            sonuc = 1\n",
        "            while sayi > 1:\n",
        "                sonuc *= sayi\n",
        "                sayi -= 1\n",
        "            print(sonuc)\n",
        "        break\n",
        "    except ValueError:\n",
        "        print(\"Lütfen geçerli bir tam sayı girin.\")"
      ],
      "metadata": {
        "colab": {
          "base_uri": "https://localhost:8080/"
        },
        "id": "ugaU95WMFgGc",
        "outputId": "9e28f2e6-153b-4397-ea1a-c72c1a845ff5"
      },
      "execution_count": 6,
      "outputs": [
        {
          "output_type": "stream",
          "name": "stdout",
          "text": [
            "Bir sayı girin: 52\n",
            "80658175170943878571660636856403766975289505440883277824000000000000\n"
          ]
        }
      ]
    },
    {
      "cell_type": "code",
      "source": [
        "# Kullanıcıdan başlangıç değeri al\n",
        "#Kullanıcıdan başlangıç ve bitiş değerlerini alarak, bu değerler arasındaki çift sayıları bulan ve bu çift sayıların toplamını hesaplayan bir Python programı yazınız.\n",
        "while True:\n",
        "    try:\n",
        "        baslangic_degeri = int(input(\"Başlangıç değerini girin: \"))\n",
        "        if baslangic_degeri < 0:\n",
        "            baslangic_degeri = abs(baslangic_degeri)\n",
        "            print(f\"Negatif değer girdiniz, pozitif olarak alındı: {baslangic_degeri}\")\n",
        "        break\n",
        "    except ValueError:\n",
        "        print(\"Lütfen geçerli bir tam sayı girin.\")\n",
        "\n",
        "# Kullanıcıdan son değer al\n",
        "while True:\n",
        "    try:\n",
        "        bitis_degeri = int(input(\"Bitiş değerini girin: \"))\n",
        "        if bitis_degeri < 0:\n",
        "            bitis_degeri = abs(bitis_degeri)\n",
        "            print(f\"Negatif değer girdiniz, pozitif olarak alındı: {bitis_degeri}\")\n",
        "        break\n",
        "    except ValueError:\n",
        "        print(\"Lütfen geçerli bir tam sayı girin.\")\n",
        "\n",
        "# Başlangıç ve bitiş değerleri arasında çift sayıları bul ve topla\n",
        "cift_sayilar = []\n",
        "cift_sayilarin_toplami = 0\n",
        "sayi = baslangic_degeri\n",
        "\n",
        "while sayi <= bitis_degeri:\n",
        "    if sayi % 2 == 0:\n",
        "        cift_sayilar.append(sayi)\n",
        "        cift_sayilarin_toplami += sayi\n",
        "    sayi += 1\n",
        "\n",
        "# Elde edilen çift sayıları ve toplamlarını ekrana yazdır\n",
        "print(f\"{baslangic_degeri} ile {bitis_degeri} arasındaki çift sayılar:\")\n",
        "for num in cift_sayilar:\n",
        "    print(num, end=\" \")\n",
        "\n",
        "print(f\"\\nÇift sayıların toplamı: {cift_sayilarin_toplami}\")"
      ],
      "metadata": {
        "colab": {
          "base_uri": "https://localhost:8080/"
        },
        "id": "-SBISZaeFgN0",
        "outputId": "ac616894-7236-4314-a015-53155f1fd518"
      },
      "execution_count": 10,
      "outputs": [
        {
          "output_type": "stream",
          "name": "stdout",
          "text": [
            "Başlangıç değerini girin: 2\n",
            "Bitiş değerini girin: 12\n",
            "2 ile 12 arasındaki çift sayılar:\n",
            "2 4 6 8 10 12 \n",
            "Çift sayıların toplamı: 42\n"
          ]
        }
      ]
    },
    {
      "cell_type": "code",
      "source": [
        "# Önceden tanımlalan sesli harf listesinde girilen metnin karşılaştırılması yapılarak sesli ve sessiz harf kontrolünün yapımı\n",
        "sesli_harfler = 'aeıioöuüAEIİOÖUÜ'\n",
        "\n",
        "kelime = input(\"Bir kelime girin: \") # Kullanıcıdan bir kelime al\n",
        "\n",
        "# Sesli ve sessiz harf sayısını hesapla\n",
        "sesli_harf_sayisi = 0\n",
        "sessiz_harf_sayisi = 0\n",
        "\n",
        "'''\n",
        "isalpha() ile bir stringde yalnızca harf olup olmadığını kontrol etmek için kullanılır.\n",
        "\n",
        "Aşağıdaki kod blogunda geçen \"isalpha\" harf dışı bir karakter ile karşılaşınca \"false\" döndürmektedir.\n",
        "'''\n",
        "\n",
        "for harf in kelime:\n",
        "    if harf.isalpha():  # Sadece harfleri kontrol et\n",
        "        if harf in sesli_harfler:\n",
        "            sesli_harf_sayisi += 1\n",
        "        else:\n",
        "            sessiz_harf_sayisi += 1\n",
        "\n",
        "# Sonuçları ekrana yazdır\n",
        "print(kelime, \"kelimesinde\" , sesli_harf_sayisi , \"adet sesli harf ve\", sessiz_harf_sayisi, \"sessiz harf vardır.\")"
      ],
      "metadata": {
        "colab": {
          "base_uri": "https://localhost:8080/"
        },
        "id": "fjm9bP3BFgTU",
        "outputId": "81659c21-7c78-4b4b-a545-869231f55af7"
      },
      "execution_count": 8,
      "outputs": [
        {
          "output_type": "stream",
          "name": "stdout",
          "text": [
            "Bir kelime girin: ordu\n",
            "ordu kelimesinde 2 adet sesli harf ve 2 sessiz harf vardır.\n"
          ]
        }
      ]
    }
  ]
}