{
  "nbformat": 4,
  "nbformat_minor": 0,
  "metadata": {
    "colab": {
      "provenance": []
    },
    "kernelspec": {
      "name": "python3",
      "display_name": "Python 3"
    },
    "language_info": {
      "name": "python"
    }
  },
  "cells": [
    {
      "cell_type": "code",
      "source": [
        "print(\"Merhaba, İGÜ - İSTKA / Ders 4\") # print ekrana çıktı veren bir koddur."
      ],
      "metadata": {
        "colab": {
          "base_uri": "https://localhost:8080/"
        },
        "id": "cfwTSz72Dd3E",
        "outputId": "7fbd356e-c704-43a9-9d75-d2741eaa3b4a"
      },
      "execution_count": 40,
      "outputs": [
        {
          "output_type": "stream",
          "name": "stdout",
          "text": [
            "Merhaba, İGÜ - İSTKA / Ders 4\n"
          ]
        }
      ]
    },
    {
      "cell_type": "code",
      "source": [
        "import sys # import python programlama dilinde yazılıma kütüphane eklemeye yarayan bir kod blogudur.\n",
        "print(sys.version)"
      ],
      "metadata": {
        "colab": {
          "base_uri": "https://localhost:8080/"
        },
        "id": "LZoctnXbDRGF",
        "outputId": "9890a929-5659-490d-b87f-91a47bf9e17d"
      },
      "execution_count": 39,
      "outputs": [
        {
          "output_type": "stream",
          "name": "stdout",
          "text": [
            "3.10.12 (main, Jul 29 2024, 16:56:48) [GCC 11.4.0]\n"
          ]
        }
      ]
    },
    {
      "cell_type": "code",
      "source": [
        "from google.colab import drive # google colab - drive bağlantısı\n",
        "\n",
        "drive.mount('/content/drive')\n"
      ],
      "metadata": {
        "colab": {
          "base_uri": "https://localhost:8080/"
        },
        "id": "CnyJWaMEDQ2U",
        "outputId": "af47b3aa-eafe-4ad9-f629-54092fa57a4a"
      },
      "execution_count": 38,
      "outputs": [
        {
          "output_type": "stream",
          "name": "stdout",
          "text": [
            "Drive already mounted at /content/drive; to attempt to forcibly remount, call drive.mount(\"/content/drive\", force_remount=True).\n"
          ]
        }
      ]
    },
    {
      "cell_type": "code",
      "source": [
        "import os\n",
        "\n",
        "os.chdir('/content/drive/My Drive/VERIYAPILARI_ISTKA')\n",
        "\n",
        "!pwd # bize kodun çıktısını dosya yolu olarak veren kod blogudur."
      ],
      "metadata": {
        "colab": {
          "base_uri": "https://localhost:8080/"
        },
        "id": "CO7hDqokDK0V",
        "outputId": "b3941b61-9619-4329-fe0b-c6a557b45365"
      },
      "execution_count": 37,
      "outputs": [
        {
          "output_type": "stream",
          "name": "stdout",
          "text": [
            "/content/drive/My Drive/VERIYAPILARI_ISTKA\n"
          ]
        }
      ]
    },
    {
      "cell_type": "code",
      "source": [
        "# Geçerli değişken tanımlaması\n",
        "degisken_1 = 10\n",
        "Degisken2 = 20\n",
        "_degisken3 = 30"
      ],
      "metadata": {
        "id": "ZwwiLTEmqyqi"
      },
      "execution_count": 6,
      "outputs": []
    },
    {
      "cell_type": "code",
      "source": [
        "# Geçersiz değişken tanımlaması\n",
        "1degisken = 40\n",
        "degisken-4 = 50"
      ],
      "metadata": {
        "colab": {
          "base_uri": "https://localhost:8080/",
          "height": 106
        },
        "id": "zWw3R-7Yv4qN",
        "outputId": "64fdacc0-dc0e-4c79-bcbc-35c40add146b"
      },
      "execution_count": 7,
      "outputs": [
        {
          "output_type": "error",
          "ename": "SyntaxError",
          "evalue": "invalid decimal literal (<ipython-input-7-7cd3bbcf57d9>, line 2)",
          "traceback": [
            "\u001b[0;36m  File \u001b[0;32m\"<ipython-input-7-7cd3bbcf57d9>\"\u001b[0;36m, line \u001b[0;32m2\u001b[0m\n\u001b[0;31m    1degisken = 40\u001b[0m\n\u001b[0m    ^\u001b[0m\n\u001b[0;31mSyntaxError\u001b[0m\u001b[0;31m:\u001b[0m invalid decimal literal\n"
          ]
        }
      ]
    },
    {
      "cell_type": "code",
      "source": [
        "# Değişken Tanımlama İşlemi\n",
        "\n",
        "x = 5\n",
        "y = \"Merhaba Dünya\"\n",
        "\n",
        "print(x)\n",
        "print(y)\n",
        ""
      ],
      "metadata": {
        "colab": {
          "base_uri": "https://localhost:8080/"
        },
        "id": "7mHI16w1wXU8",
        "outputId": "6b99e2a8-4052-456c-d6f1-bad5900a3404"
      },
      "execution_count": 9,
      "outputs": [
        {
          "output_type": "stream",
          "name": "stdout",
          "text": [
            "5\n",
            "Merhaba Dünya\n"
          ]
        }
      ]
    },
    {
      "cell_type": "code",
      "source": [
        "# Integer - Tamsayı tanımlaması\n",
        "a=10\n",
        "print(type(a))"
      ],
      "metadata": {
        "colab": {
          "base_uri": "https://localhost:8080/"
        },
        "id": "DOkS-WUywd7U",
        "outputId": "2ae5f1e4-a91b-4614-8d6e-1938b042d77b"
      },
      "execution_count": 10,
      "outputs": [
        {
          "output_type": "stream",
          "name": "stdout",
          "text": [
            "<class 'int'>\n"
          ]
        }
      ]
    },
    {
      "cell_type": "code",
      "source": [
        "# Float - Ondalıklı Sayı tanımlaması\n",
        "b = 20.5\n",
        "print(type(b))"
      ],
      "metadata": {
        "colab": {
          "base_uri": "https://localhost:8080/"
        },
        "id": "sKyG3aeA51KO",
        "outputId": "419dacb4-0587-4a4e-b188-c9632e674bf9"
      },
      "execution_count": 15,
      "outputs": [
        {
          "output_type": "stream",
          "name": "stdout",
          "text": [
            "<class 'float'>\n"
          ]
        }
      ]
    },
    {
      "cell_type": "code",
      "source": [
        "# int'ten float'a çevrimin gerçekleştirilmesi\n",
        "x = 10\n",
        "y = float(x)\n",
        "print(y, type(y))\n",
        ""
      ],
      "metadata": {
        "colab": {
          "base_uri": "https://localhost:8080/"
        },
        "id": "zgN6qUNT6Lqf",
        "outputId": "f5e1264a-b352-4884-a9e6-c99bdb27b109"
      },
      "execution_count": 16,
      "outputs": [
        {
          "output_type": "stream",
          "name": "stdout",
          "text": [
            "10.0 <class 'float'>\n"
          ]
        }
      ]
    },
    {
      "cell_type": "code",
      "source": [
        "# float'tan int'e çevrimin gerçekleştirilmesi\n",
        "a = 12.34\n",
        "b = int(a)\n",
        "print(b, type(b))\n"
      ],
      "metadata": {
        "colab": {
          "base_uri": "https://localhost:8080/"
        },
        "id": "PIpeK2DV7JTT",
        "outputId": "c2057065-4db7-40ce-8e7c-95e78f77a7d8"
      },
      "execution_count": 17,
      "outputs": [
        {
          "output_type": "stream",
          "name": "stdout",
          "text": [
            "12 <class 'int'>\n"
          ]
        }
      ]
    },
    {
      "cell_type": "code",
      "source": [
        "# String - Metinsel içerik tanımlaması\n",
        "\n",
        "c = \"Python Programlama\"\n",
        "print(c)\n",
        "print(type(c))"
      ],
      "metadata": {
        "colab": {
          "base_uri": "https://localhost:8080/"
        },
        "id": "sHtpo0Q47g91",
        "outputId": "06ae1133-a957-4859-b38e-b00df21a326f"
      },
      "execution_count": 18,
      "outputs": [
        {
          "output_type": "stream",
          "name": "stdout",
          "text": [
            "Python Programlama\n",
            "<class 'str'>\n"
          ]
        }
      ]
    },
    {
      "cell_type": "code",
      "source": [
        "# Boolean (True - False) - Doğru / Yanlış tanımlaması\n",
        "\n",
        "d = True\n",
        "e = False\n",
        "print(d)\n",
        "print(type(e))\n",
        ""
      ],
      "metadata": {
        "colab": {
          "base_uri": "https://localhost:8080/"
        },
        "id": "KhlWKIet7nsl",
        "outputId": "702e8814-fd95-490e-e884-ad7f58eaddc6"
      },
      "execution_count": 19,
      "outputs": [
        {
          "output_type": "stream",
          "name": "stdout",
          "text": [
            "True\n",
            "<class 'bool'>\n"
          ]
        }
      ]
    },
    {
      "cell_type": "code",
      "source": [
        "# List - Liste tanımlaması\n",
        "\n",
        "my_list = [1, 2, 3, 4, 5]\n",
        "print(type(my_list))\n",
        "print(my_list)"
      ],
      "metadata": {
        "colab": {
          "base_uri": "https://localhost:8080/"
        },
        "id": "sEHHD5Ta7n2V",
        "outputId": "aaab87ba-efbb-430e-f6f0-e69732ff4a6f"
      },
      "execution_count": 20,
      "outputs": [
        {
          "output_type": "stream",
          "name": "stdout",
          "text": [
            "<class 'list'>\n",
            "[1, 2, 3, 4, 5]\n"
          ]
        }
      ]
    },
    {
      "cell_type": "code",
      "source": [
        "# Tuple - Demet tanımlaması\n",
        "\n",
        "my_tuple = (1, 2, 3, 4, 5)\n",
        "print(type(my_tuple))\n",
        "print(my_tuple)"
      ],
      "metadata": {
        "colab": {
          "base_uri": "https://localhost:8080/"
        },
        "id": "wSiIa3ig7n9G",
        "outputId": "ee028ec5-e14d-4c18-8cd2-08cda086111a"
      },
      "execution_count": 21,
      "outputs": [
        {
          "output_type": "stream",
          "name": "stdout",
          "text": [
            "<class 'tuple'>\n",
            "(1, 2, 3, 4, 5)\n"
          ]
        }
      ]
    },
    {
      "cell_type": "code",
      "source": [
        "# Dictionary - Sözlük Örneği -> Öğrencilerin notlarını tutan bir sözlük\n",
        "notlar = {\n",
        "    \"Ali\": 85,\n",
        "    \"Veli\": 90,\n",
        "    \"Ayşe\": 78\n",
        "}\n",
        "\n",
        "notlar[\"Fatma\"] = 92 # Yeni öğrenci ekleme\n",
        "\n",
        "notlar[\"Ali\"] = 88 # Bir öğrencinin notunu güncelleme\n",
        "\n",
        "print(notlar) # Tüm sözlüğü yazdırma\n",
        ""
      ],
      "metadata": {
        "colab": {
          "base_uri": "https://localhost:8080/"
        },
        "id": "PjFZuKls7oF9",
        "outputId": "a53dc46c-caa0-4fe0-c1d1-a4c4503bb450"
      },
      "execution_count": 26,
      "outputs": [
        {
          "output_type": "stream",
          "name": "stdout",
          "text": [
            "{'Ali': 88, 'Veli': 90, 'Ayşe': 78, 'Fatma': 92}\n"
          ]
        }
      ]
    },
    {
      "cell_type": "code",
      "source": [
        "print(notlar.keys())    # dict_keys(['isim', 'yas', 'meslek'])\n",
        "print(notlar.values())  # dict_values(['Ahmet', 26, 'Mühendis'])\n",
        "print(notlar.items())   # dict_items([('isim', 'Ahmet'), ('yas', 26), ('meslek', 'Mühendis')])\n",
        ""
      ],
      "metadata": {
        "colab": {
          "base_uri": "https://localhost:8080/"
        },
        "id": "37tHYJlLAQ8a",
        "outputId": "a95df5c7-a0c4-400a-83be-93148729c7be"
      },
      "execution_count": 27,
      "outputs": [
        {
          "output_type": "stream",
          "name": "stdout",
          "text": [
            "dict_keys(['Ali', 'Veli', 'Ayşe', 'Fatma'])\n",
            "dict_values([88, 90, 78, 92])\n",
            "dict_items([('Ali', 88), ('Veli', 90), ('Ayşe', 78), ('Fatma', 92)])\n"
          ]
        }
      ]
    },
    {
      "cell_type": "code",
      "source": [
        "# Set - Küme Örneği -> Bir yazılım etkinliğine katılan kişilerin oluşturduğu kümeler\n",
        "kodyazanlar = {\"Ahmet\", \"Mehmet\", \"Ayşe\"}\n",
        "kodyazmayanlar = {\"Ayşe\", \"Fatma\", \"Veli\"}\n",
        "\n",
        "# Kafasına Göre Takılan Öğrenciler\n",
        "ortak = kodyazanlar.intersection(kodyazmayanlar)\n",
        "print(\"Kafasına Göre Takılan Öğrencilerin Listesi:\", ortak)\n",
        "\n",
        "# Etkinlikte Kod Çalışması Yapmayan Öğrencilerin Tespiti\n",
        "Kod_yazmayan = kodyazmayanlar.difference(kodyazanlar)\n",
        "print(\"Kod çalışması yapmayan öğrenci listesi:\", Kod_yazmayan)\n",
        "\n",
        "# Yazılım Eğitiminin Öğrenci İmza Listesi\n",
        "imza_listesi = kodyazanlar.union(kodyazmayanlar)\n",
        "print(\"Etkinlik katılımcıları:\", imza_listesi)\n",
        ""
      ],
      "metadata": {
        "colab": {
          "base_uri": "https://localhost:8080/"
        },
        "id": "1wGx_fvPBs-o",
        "outputId": "e3d84fd5-8a59-4cda-ba78-45fe87686b03"
      },
      "execution_count": 28,
      "outputs": [
        {
          "output_type": "stream",
          "name": "stdout",
          "text": [
            "Kafasına Göre Takılan Öğrencilerin Listesi: {'Ayşe'}\n",
            "Kod çalışması yapmayan öğrenci listesi: {'Fatma', 'Veli'}\n",
            "Etkinlik katılımcıları: {'Ahmet', 'Veli', 'Mehmet', 'Ayşe', 'Fatma'}\n"
          ]
        }
      ]
    },
    {
      "cell_type": "code",
      "source": [
        "giris = input(\"Bir sayı girin: \")\n",
        "try:\n",
        "    num = float(giris)\n",
        "    print(f\"Girilen sayı: {num}, tipi: {type(num)},\", abs(num))\n",
        "except ValueError:\n",
        "    print(\"Geçersiz veri girdiniz.\")\n",
        ""
      ],
      "metadata": {
        "colab": {
          "base_uri": "https://localhost:8080/"
        },
        "id": "XbP7y2BLCezr",
        "outputId": "2d39f1a6-7355-4151-951a-cc5942b13b0a"
      },
      "execution_count": 30,
      "outputs": [
        {
          "output_type": "stream",
          "name": "stdout",
          "text": [
            "Bir sayı girin: a\n",
            "Geçersiz veri girdiniz.\n"
          ]
        }
      ]
    },
    {
      "cell_type": "code",
      "source": [
        " # 0 ile 1 arasında rastgele bir ondalık sayı üretir\n",
        "\n",
        "import random\n",
        "\n",
        "rastgele_float = random.random()\n",
        "print(\"Rastgele Deger:\", rastgele_float)\n",
        ""
      ],
      "metadata": {
        "colab": {
          "base_uri": "https://localhost:8080/"
        },
        "id": "EZB10LKJC2Ff",
        "outputId": "8b4ce6aa-d561-40d2-efa6-c6e88cb292e5"
      },
      "execution_count": 33,
      "outputs": [
        {
          "output_type": "stream",
          "name": "stdout",
          "text": [
            "Rastgele Deger: 0.5886806442327407\n"
          ]
        }
      ]
    },
    {
      "cell_type": "code",
      "source": [
        "# 1 ile 10 arasında (her iki sınır dahil) rastgele bir tam sayı üretir\n",
        "\n",
        "import random\n",
        "\n",
        "rastgele_sayi = random.randint(1, 10)\n",
        "print(\"Rastgele Deger:\", rastgele_sayi)"
      ],
      "metadata": {
        "colab": {
          "base_uri": "https://localhost:8080/"
        },
        "id": "OSHx7kGpDAy3",
        "outputId": "639054c6-5795-4028-8b1f-b7a55a76eba2"
      },
      "execution_count": 44,
      "outputs": [
        {
          "output_type": "stream",
          "name": "stdout",
          "text": [
            "Rastgele Deger: 4\n"
          ]
        }
      ]
    }
  ]
}